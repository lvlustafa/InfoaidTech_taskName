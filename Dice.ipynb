{
 "cells": [
  {
   "cell_type": "code",
   "execution_count": 11,
   "id": "3656c2f1",
   "metadata": {},
   "outputs": [
    {
     "name": "stdout",
     "output_type": "stream",
     "text": [
      "Welcome to the Dice Rolling App!\n",
      "How many dice would you like to roll? 2\n",
      "Result of rolling 2 dice: [3, 1]\n",
      "Would you like to roll again? (yes/no) yes\n",
      "How many dice would you like to roll? 4\n",
      "Result of rolling 4 dice: [2, 3, 4, 4]\n",
      "Would you like to roll again? (yes/no) yes\n",
      "How many dice would you like to roll? 3\n",
      "Result of rolling 3 dice: [4, 6, 4]\n",
      "Would you like to roll again? (yes/no) no\n",
      "Thank you for using the Dice Rolling App. Goodbye!\n"
     ]
    }
   ],
   "source": [
    "import random\n",
    "\n",
    "def roll_dice(num_dice):\n",
    "    rolls = [random.randint(1, 6) for _ in range(num_dice)]\n",
    "    return rolls\n",
    "\n",
    "def main():\n",
    "    print(\"Welcome to the Dice Rolling App!\")\n",
    "    \n",
    "    while True:\n",
    "        num_dice = int(input(\"How many dice would you like to roll? \"))\n",
    "        \n",
    "        # Validate the input\n",
    "        if num_dice <= 0:\n",
    "            print(\"Please enter a valid number of dice (greater than 0).\")\n",
    "            continue\n",
    "        \n",
    "        # Roll the dice\n",
    "        rolls = roll_dice(num_dice)\n",
    "        \n",
    "        # Display the result\n",
    "        print(\"Result of rolling\", num_dice, \"dice:\", rolls)\n",
    "        \n",
    "        # Ask user if they want to roll again\n",
    "        choice = input(\"Would you like to roll again? (yes/no) \").lower()\n",
    "        if choice != 'yes':\n",
    "            print(\"Thank you for using the Dice Rolling App. Goodbye!\")\n",
    "            break\n",
    "\n",
    "if __name__ == \"__main__\":\n",
    "    main()\n",
    "\n",
    "\n"
   ]
  },
  {
   "cell_type": "markdown",
   "id": "71cac964",
   "metadata": {},
   "source": []
  }
 ],
 "metadata": {
  "kernelspec": {
   "display_name": "Python 3 (ipykernel)",
   "language": "python",
   "name": "python3"
  },
  "language_info": {
   "codemirror_mode": {
    "name": "ipython",
    "version": 3
   },
   "file_extension": ".py",
   "mimetype": "text/x-python",
   "name": "python",
   "nbconvert_exporter": "python",
   "pygments_lexer": "ipython3",
   "version": "3.11.4"
  }
 },
 "nbformat": 4,
 "nbformat_minor": 5
}
